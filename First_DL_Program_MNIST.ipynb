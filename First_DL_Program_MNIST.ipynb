{
  "cells": [
    {
      "cell_type": "markdown",
      "metadata": {
        "id": "view-in-github",
        "colab_type": "text"
      },
      "source": [
        "<a href=\"https://colab.research.google.com/github/vidulavk/MNIST/blob/main/First_DL_Program_MNIST.ipynb\" target=\"_parent\"><img src=\"https://colab.research.google.com/assets/colab-badge.svg\" alt=\"Open In Colab\"/></a>"
      ]
    },
    {
      "cell_type": "markdown",
      "metadata": {
        "id": "TQtloBhp-ouW"
      },
      "source": [
        "Ref: https://towardsdatascience.com/handwritten-digit-mnist-pytorch-977b5338e627"
      ]
    },
    {
      "cell_type": "markdown",
      "metadata": {
        "id": "qmpQYAR71j56"
      },
      "source": [
        "# 1. Importing Libraries\n"
      ]
    },
    {
      "cell_type": "code",
      "execution_count": null,
      "metadata": {
        "colab": {
          "background_save": true
        },
        "id": "VdlXSkaMtfXK"
      },
      "outputs": [],
      "source": [
        "import numpy as np\n",
        "import torch\n",
        "import torchvision\n",
        "import matplotlib.pyplot as plt\n",
        "from time import time\n",
        "from torchvision import datasets, transforms\n",
        "from torch import nn, optim\n",
        "from torchsummary import summary"
      ]
    },
    {
      "cell_type": "markdown",
      "metadata": {
        "id": "JcDoRj4B182g"
      },
      "source": [
        "# 2. Setting Variables"
      ]
    },
    {
      "cell_type": "code",
      "execution_count": null,
      "metadata": {
        "colab": {
          "background_save": true
        },
        "id": "HUMjafrB12DF"
      },
      "outputs": [],
      "source": [
        "# data loader variables\n",
        "batch_size = 64\n",
        "\n",
        "# network design variables\n",
        "input_size = 784\n",
        "hidden_sizes = [128, 64]\n",
        "output_size = 10\n",
        "\n",
        "# training variables\n",
        "epochs = 50"
      ]
    },
    {
      "cell_type": "markdown",
      "metadata": {
        "id": "SoyVLNAm2JBb"
      },
      "source": [
        "# 3. Data Handling"
      ]
    },
    {
      "cell_type": "code",
      "execution_count": null,
      "metadata": {
        "colab": {
          "background_save": true
        },
        "id": "vVZESguw2LsC"
      },
      "outputs": [],
      "source": [
        "transform = transforms.Compose([transforms.ToTensor(),\n",
        "                              transforms.Normalize((0.5,), (0.5,)),\n",
        "                              ])"
      ]
    },
    {
      "cell_type": "code",
      "execution_count": null,
      "metadata": {
        "colab": {
          "background_save": true
        },
        "id": "AjSkPkOU2OHY",
        "outputId": "76774dd4-8756-4d30-fb43-ef7368c6359b"
      },
      "outputs": [
        {
          "name": "stdout",
          "output_type": "stream",
          "text": [
            "Downloading http://yann.lecun.com/exdb/mnist/train-images-idx3-ubyte.gz\n",
            "Downloading http://yann.lecun.com/exdb/mnist/train-images-idx3-ubyte.gz to PATH_TO_STORE_TRAINSET/MNIST/raw/train-images-idx3-ubyte.gz\n"
          ]
        },
        {
          "name": "stderr",
          "output_type": "stream",
          "text": [
            "100%|██████████| 9912422/9912422 [00:00<00:00, 113267724.75it/s]\n"
          ]
        },
        {
          "name": "stdout",
          "output_type": "stream",
          "text": [
            "Extracting PATH_TO_STORE_TRAINSET/MNIST/raw/train-images-idx3-ubyte.gz to PATH_TO_STORE_TRAINSET/MNIST/raw\n",
            "\n",
            "Downloading http://yann.lecun.com/exdb/mnist/train-labels-idx1-ubyte.gz\n",
            "Downloading http://yann.lecun.com/exdb/mnist/train-labels-idx1-ubyte.gz to PATH_TO_STORE_TRAINSET/MNIST/raw/train-labels-idx1-ubyte.gz\n"
          ]
        },
        {
          "name": "stderr",
          "output_type": "stream",
          "text": [
            "100%|██████████| 28881/28881 [00:00<00:00, 26414237.64it/s]\n"
          ]
        },
        {
          "name": "stdout",
          "output_type": "stream",
          "text": [
            "Extracting PATH_TO_STORE_TRAINSET/MNIST/raw/train-labels-idx1-ubyte.gz to PATH_TO_STORE_TRAINSET/MNIST/raw\n",
            "\n",
            "Downloading http://yann.lecun.com/exdb/mnist/t10k-images-idx3-ubyte.gz\n",
            "Downloading http://yann.lecun.com/exdb/mnist/t10k-images-idx3-ubyte.gz to PATH_TO_STORE_TRAINSET/MNIST/raw/t10k-images-idx3-ubyte.gz\n"
          ]
        },
        {
          "name": "stderr",
          "output_type": "stream",
          "text": [
            "100%|██████████| 1648877/1648877 [00:00<00:00, 30626088.37it/s]\n"
          ]
        },
        {
          "name": "stdout",
          "output_type": "stream",
          "text": [
            "Extracting PATH_TO_STORE_TRAINSET/MNIST/raw/t10k-images-idx3-ubyte.gz to PATH_TO_STORE_TRAINSET/MNIST/raw\n",
            "\n",
            "Downloading http://yann.lecun.com/exdb/mnist/t10k-labels-idx1-ubyte.gz\n",
            "Downloading http://yann.lecun.com/exdb/mnist/t10k-labels-idx1-ubyte.gz to PATH_TO_STORE_TRAINSET/MNIST/raw/t10k-labels-idx1-ubyte.gz\n"
          ]
        },
        {
          "name": "stderr",
          "output_type": "stream",
          "text": [
            "100%|██████████| 4542/4542 [00:00<00:00, 2852302.56it/s]\n"
          ]
        },
        {
          "name": "stdout",
          "output_type": "stream",
          "text": [
            "Extracting PATH_TO_STORE_TRAINSET/MNIST/raw/t10k-labels-idx1-ubyte.gz to PATH_TO_STORE_TRAINSET/MNIST/raw\n",
            "\n",
            "Downloading http://yann.lecun.com/exdb/mnist/train-images-idx3-ubyte.gz\n",
            "Downloading http://yann.lecun.com/exdb/mnist/train-images-idx3-ubyte.gz to PATH_TO_STORE_TESTSET/MNIST/raw/train-images-idx3-ubyte.gz\n"
          ]
        },
        {
          "name": "stderr",
          "output_type": "stream",
          "text": [
            "100%|██████████| 9912422/9912422 [00:00<00:00, 109667485.02it/s]"
          ]
        },
        {
          "name": "stdout",
          "output_type": "stream",
          "text": [
            "Extracting PATH_TO_STORE_TESTSET/MNIST/raw/train-images-idx3-ubyte.gz to PATH_TO_STORE_TESTSET/MNIST/raw\n"
          ]
        },
        {
          "name": "stderr",
          "output_type": "stream",
          "text": [
            "\n"
          ]
        },
        {
          "name": "stdout",
          "output_type": "stream",
          "text": [
            "\n",
            "Downloading http://yann.lecun.com/exdb/mnist/train-labels-idx1-ubyte.gz\n",
            "Downloading http://yann.lecun.com/exdb/mnist/train-labels-idx1-ubyte.gz to PATH_TO_STORE_TESTSET/MNIST/raw/train-labels-idx1-ubyte.gz\n"
          ]
        },
        {
          "name": "stderr",
          "output_type": "stream",
          "text": [
            "100%|██████████| 28881/28881 [00:00<00:00, 31827560.12it/s]\n"
          ]
        },
        {
          "name": "stdout",
          "output_type": "stream",
          "text": [
            "Extracting PATH_TO_STORE_TESTSET/MNIST/raw/train-labels-idx1-ubyte.gz to PATH_TO_STORE_TESTSET/MNIST/raw\n",
            "\n",
            "Downloading http://yann.lecun.com/exdb/mnist/t10k-images-idx3-ubyte.gz\n",
            "Downloading http://yann.lecun.com/exdb/mnist/t10k-images-idx3-ubyte.gz to PATH_TO_STORE_TESTSET/MNIST/raw/t10k-images-idx3-ubyte.gz\n"
          ]
        },
        {
          "name": "stderr",
          "output_type": "stream",
          "text": [
            "100%|██████████| 1648877/1648877 [00:00<00:00, 31521694.96it/s]\n"
          ]
        },
        {
          "name": "stdout",
          "output_type": "stream",
          "text": [
            "Extracting PATH_TO_STORE_TESTSET/MNIST/raw/t10k-images-idx3-ubyte.gz to PATH_TO_STORE_TESTSET/MNIST/raw\n",
            "\n",
            "Downloading http://yann.lecun.com/exdb/mnist/t10k-labels-idx1-ubyte.gz\n",
            "Downloading http://yann.lecun.com/exdb/mnist/t10k-labels-idx1-ubyte.gz to PATH_TO_STORE_TESTSET/MNIST/raw/t10k-labels-idx1-ubyte.gz\n"
          ]
        },
        {
          "name": "stderr",
          "output_type": "stream",
          "text": [
            "100%|██████████| 4542/4542 [00:00<00:00, 13444268.71it/s]"
          ]
        },
        {
          "name": "stdout",
          "output_type": "stream",
          "text": [
            "Extracting PATH_TO_STORE_TESTSET/MNIST/raw/t10k-labels-idx1-ubyte.gz to PATH_TO_STORE_TESTSET/MNIST/raw\n",
            "\n"
          ]
        },
        {
          "name": "stderr",
          "output_type": "stream",
          "text": [
            "\n"
          ]
        }
      ],
      "source": [
        "# dataset function\n",
        "trainset = datasets.MNIST('PATH_TO_STORE_TRAINSET', download=True, train=True, transform=transform)\n",
        "valset = datasets.MNIST('PATH_TO_STORE_TESTSET', download=True, train=False, transform=transform)\n",
        "#data loader\n",
        "trainloader = torch.utils.data.DataLoader(trainset, batch_size=batch_size, shuffle=True)\n",
        "valloader = torch.utils.data.DataLoader(valset, batch_size=batch_size, shuffle=True)"
      ]
    },
    {
      "cell_type": "markdown",
      "metadata": {
        "id": "-yFWg0vB2oB1"
      },
      "source": [
        "# 4. Sanity Check"
      ]
    },
    {
      "cell_type": "markdown",
      "metadata": {
        "id": "zE11EGDY8YS6"
      },
      "source": [
        "### Dimension Check"
      ]
    },
    {
      "cell_type": "code",
      "execution_count": null,
      "metadata": {
        "colab": {
          "background_save": true,
          "base_uri": "https://localhost:8080/"
        },
        "id": "IwTBFa8F2RTo",
        "outputId": "ffc55b59-aa4a-4602-fe95-5c0bee0a783c"
      },
      "outputs": [
        {
          "name": "stdout",
          "output_type": "stream",
          "text": [
            "1\n",
            "torch.Size([64, 1, 28, 28])\n",
            "torch.Size([64])\n"
          ]
        }
      ],
      "source": [
        "i=0\n",
        "for images, labels in trainloader:\n",
        "    i+=1\n",
        "    print(i)\n",
        "    print(images.shape)\n",
        "    print(labels.shape)\n",
        "    break"
      ]
    },
    {
      "cell_type": "markdown",
      "metadata": {
        "id": "0L_ttfTZ8b1i"
      },
      "source": [
        "### Image Display"
      ]
    },
    {
      "cell_type": "code",
      "execution_count": null,
      "metadata": {
        "colab": {
          "background_save": true,
          "base_uri": "https://localhost:8080/"
        },
        "id": "KtVR87Xp9D0K",
        "outputId": "4cf19b53-a4aa-4155-e117-ad4fedade89d"
      },
      "outputs": [
        {
          "name": "stdout",
          "output_type": "stream",
          "text": [
            "(28, 28)\n"
          ]
        }
      ],
      "source": [
        "print((images[11].numpy().squeeze()).shape)"
      ]
    },
    {
      "cell_type": "code",
      "execution_count": null,
      "metadata": {
        "colab": {
          "background_save": true,
          "base_uri": "https://localhost:8080/",
          "height": 447
        },
        "id": "77EvVzzA2siR",
        "outputId": "9ad9349d-65e2-4681-b105-a8fb414a8568"
      },
      "outputs": [
        {
          "name": "stdout",
          "output_type": "stream",
          "text": [
            "tensor(4)\n"
          ]
        },
        {
          "data": {
            "image/png": "[encoded data removed]",
            "text/plain": [
              "<Figure size 640x480 with 1 Axes>"
            ]
          },
          "metadata": {},
          "output_type": "display_data"
        }
      ],
      "source": [
        "plt.imshow(images[11].numpy().squeeze(), cmap='gray_r');\n",
        "print(labels[11])"
      ]
    },
    {
      "cell_type": "code",
      "execution_count": null,
      "metadata": {
        "colab": {
          "background_save": true,
          "base_uri": "https://localhost:8080/",
          "height": 406
        },
        "id": "gHiFe6d62tA_",
        "outputId": "e3627622-e7be-4792-fb1b-880ff16f5ad1"
      },
      "outputs": [
        {
          "data": {
            "image/png": "[encoded data removed]",
            "text/plain": [
              "<Figure size 640x480 with 63 Axes>"
            ]
          },
          "metadata": {},
          "output_type": "display_data"
        }
      ],
      "source": [
        "figure = plt.figure()\n",
        "num_of_images = 64\n",
        "for index in range(1, num_of_images):\n",
        "    plt.subplot(8, 8, index)\n",
        "    plt.axis('off')\n",
        "    plt.imshow(images[index].numpy().squeeze(), cmap='gray_r')"
      ]
    },
    {
      "cell_type": "markdown",
      "metadata": {
        "id": "6-qoH_y3-WDy"
      },
      "source": [
        "# 4. Network Design"
      ]
    },
    {
      "cell_type": "markdown",
      "metadata": {
        "id": "7LraHrcP7NIi"
      },
      "source": [
        "#### Architecture"
      ]
    },
    {
      "cell_type": "code",
      "execution_count": null,
      "metadata": {
        "colab": {
          "background_save": true,
          "base_uri": "https://localhost:8080/"
        },
        "id": "-8PwJfd63i6O",
        "outputId": "cdbcdfa8-a979-4409-8564-3d0c97ac4c2a"
      },
      "outputs": [
        {
          "name": "stdout",
          "output_type": "stream",
          "text": [
            "Sequential(\n",
            "  (0): Linear(in_features=784, out_features=128, bias=True)\n",
            "  (1): ReLU()\n",
            "  (2): Linear(in_features=128, out_features=64, bias=True)\n",
            "  (3): ReLU()\n",
            "  (4): Linear(in_features=64, out_features=10, bias=True)\n",
            "  (5): LogSoftmax(dim=1)\n",
            ")\n",
            "----------------------------------------------------------------\n",
            "        Layer (type)               Output Shape         Param #\n",
            "================================================================\n",
            "            Linear-1                  [-1, 128]         100,480\n",
            "              ReLU-2                  [-1, 128]               0\n",
            "            Linear-3                   [-1, 64]           8,256\n",
            "              ReLU-4                   [-1, 64]               0\n",
            "            Linear-5                   [-1, 10]             650\n",
            "        LogSoftmax-6                   [-1, 10]               0\n",
            "================================================================\n",
            "Total params: 109,386\n",
            "Trainable params: 109,386\n",
            "Non-trainable params: 0\n",
            "----------------------------------------------------------------\n",
            "Input size (MB): 0.00\n",
            "Forward/backward pass size (MB): 0.00\n",
            "Params size (MB): 0.42\n",
            "Estimated Total Size (MB): 0.42\n",
            "----------------------------------------------------------------\n"
          ]
        }
      ],
      "source": [
        "model = nn.Sequential(nn.Linear(input_size, hidden_sizes[0]),\n",
        "                      nn.ReLU(),\n",
        "                      nn.Linear(hidden_sizes[0], hidden_sizes[1]),\n",
        "                      nn.ReLU(),\n",
        "                      nn.Linear(hidden_sizes[1], output_size),\n",
        "                      nn.LogSoftmax(dim=1))\n",
        "print(model)\n",
        "\n",
        "summary(model, (input_size,))"
      ]
    },
    {
      "cell_type": "markdown",
      "metadata": {
        "id": "8-R8vXhQ7KYm"
      },
      "source": [
        "#### Loss Function"
      ]
    },
    {
      "cell_type": "code",
      "execution_count": null,
      "metadata": {
        "colab": {
          "background_save": true
        },
        "id": "c_3EE3_34CAk"
      },
      "outputs": [],
      "source": [
        "criterion = nn.NLLLoss()"
      ]
    },
    {
      "cell_type": "markdown",
      "metadata": {
        "id": "wjuRtAUc8bOE"
      },
      "source": [
        "back propagation example problem: https://www.youtube.com/watch?v=zk2mcAz-MNI"
      ]
    },
    {
      "cell_type": "markdown",
      "metadata": {
        "id": "A118HI6L9t39"
      },
      "source": [
        "#### sanity check"
      ]
    },
    {
      "cell_type": "code",
      "execution_count": null,
      "metadata": {
        "colab": {
          "background_save": true,
          "base_uri": "https://localhost:8080/"
        },
        "id": "pTT03_GI8bby",
        "outputId": "c534e88b-bfe6-4422-d574-be77fe16fa54"
      },
      "outputs": [
        {
          "name": "stdout",
          "output_type": "stream",
          "text": [
            "1\n",
            "torch.Size([64, 1, 28, 28])\n",
            "torch.Size([64])\n",
            "torch.Size([64, 784])\n"
          ]
        }
      ],
      "source": [
        "i=0\n",
        "for images, labels in trainloader:\n",
        "    i+=1\n",
        "    print(i)\n",
        "    print(images.shape)\n",
        "    print(labels.shape)\n",
        "    break\n",
        "\n",
        "# to convert the 2D input matrix to a 1D vector\n",
        "images = images.view(images.shape[0], -1)\n",
        "print(images.shape)\n"
      ]
    },
    {
      "cell_type": "markdown",
      "metadata": {
        "id": "aqiB45bnAy_N"
      },
      "source": [
        "forward prop"
      ]
    },
    {
      "cell_type": "code",
      "execution_count": null,
      "metadata": {
        "colab": {
          "background_save": true,
          "base_uri": "https://localhost:8080/"
        },
        "id": "xLFDWHb9634u",
        "outputId": "8b675ecc-3d64-4205-bca2-25393da881a4"
      },
      "outputs": [
        {
          "name": "stdout",
          "output_type": "stream",
          "text": [
            "torch.Size([64, 10])\n",
            "tensor([-2.3787, -2.3825, -2.2058, -2.3559, -2.1451, -2.3237, -2.2341, -2.3719,\n",
            "        -2.2769, -2.3850], grad_fn=<SelectBackward0>) tensor(2)\n"
          ]
        }
      ],
      "source": [
        "# forward prop\n",
        "outputs = model(images) #log probabilities\n",
        "print(outputs.shape)\n",
        "print(outputs[0],labels[0])"
      ]
    },
    {
      "cell_type": "code",
      "execution_count": null,
      "metadata": {
        "colab": {
          "background_save": true,
          "base_uri": "https://localhost:8080/"
        },
        "id": "GQpudXYu_Hmz",
        "outputId": "f3185020-69ba-4195-e17e-9ed92356e6e0"
      },
      "outputs": [
        {
          "data": {
            "text/plain": [
              "tensor(2.2058, grad_fn=<NllLossBackward0>)"
            ]
          },
          "execution_count": 13,
          "metadata": {},
          "output_type": "execute_result"
        }
      ],
      "source": [
        "loss = criterion(outputs[0], labels[0]) #calculate the NLL loss\n",
        "loss"
      ]
    },
    {
      "cell_type": "markdown",
      "metadata": {
        "id": "OWt7dTVeA1Fn"
      },
      "source": [
        "backward prop"
      ]
    },
    {
      "cell_type": "code",
      "execution_count": null,
      "metadata": {
        "colab": {
          "background_save": true,
          "base_uri": "https://localhost:8080/"
        },
        "id": "oWVGzKNkEf_n",
        "outputId": "ae47022f-0d4d-439c-f3e5-12a1381a1d1e"
      },
      "outputs": [
        {
          "name": "stdout",
          "output_type": "stream",
          "text": [
            "Sequential(\n",
            "  (0): Linear(in_features=784, out_features=128, bias=True)\n",
            "  (1): ReLU()\n",
            "  (2): Linear(in_features=128, out_features=64, bias=True)\n",
            "  (3): ReLU()\n",
            "  (4): Linear(in_features=64, out_features=10, bias=True)\n",
            "  (5): LogSoftmax(dim=1)\n",
            ")\n"
          ]
        }
      ],
      "source": [
        "print(model)"
      ]
    },
    {
      "cell_type": "code",
      "execution_count": null,
      "metadata": {
        "colab": {
          "background_save": true,
          "base_uri": "https://localhost:8080/"
        },
        "id": "KqUK_U8KEkJJ",
        "outputId": "b023340c-5b1a-4658-958a-87a413cf278f"
      },
      "outputs": [
        {
          "name": "stdout",
          "output_type": "stream",
          "text": [
            "Linear(in_features=784, out_features=128, bias=True)\n"
          ]
        }
      ],
      "source": [
        "print(model[0])"
      ]
    },
    {
      "cell_type": "code",
      "execution_count": null,
      "metadata": {
        "colab": {
          "background_save": true,
          "base_uri": "https://localhost:8080/"
        },
        "id": "KHZw7wXJAl3r",
        "outputId": "bbb4faa4-3a92-4851-9b67-4620f77b5055"
      },
      "outputs": [
        {
          "name": "stdout",
          "output_type": "stream",
          "text": [
            "Parameter containing:\n",
            "tensor([[ 0.0097,  0.0088, -0.0042,  ...,  0.0147,  0.0209, -0.0160],\n",
            "        [ 0.0341, -0.0113, -0.0042,  ..., -0.0097,  0.0270, -0.0116],\n",
            "        [ 0.0014,  0.0215, -0.0121,  ..., -0.0096,  0.0024, -0.0141],\n",
            "        ...,\n",
            "        [ 0.0042,  0.0016,  0.0133,  ...,  0.0141,  0.0078,  0.0252],\n",
            "        [-0.0347, -0.0020, -0.0216,  ...,  0.0214,  0.0041, -0.0230],\n",
            "        [-0.0071,  0.0018, -0.0021,  ..., -0.0130, -0.0180,  0.0319]],\n",
            "       requires_grad=True)\n"
          ]
        }
      ],
      "source": [
        "print(model[0].weight)"
      ]
    },
    {
      "cell_type": "code",
      "execution_count": null,
      "metadata": {
        "colab": {
          "background_save": true,
          "base_uri": "https://localhost:8080/"
        },
        "id": "5m4_Cu9VE6i3",
        "outputId": "9adddd15-7f62-48ae-87a3-b4e96457cc47"
      },
      "outputs": [
        {
          "name": "stdout",
          "output_type": "stream",
          "text": [
            "torch.Size([128, 784])\n"
          ]
        }
      ],
      "source": [
        "print(model[0].weight.shape)"
      ]
    },
    {
      "cell_type": "code",
      "execution_count": null,
      "metadata": {
        "colab": {
          "background_save": true,
          "base_uri": "https://localhost:8080/"
        },
        "id": "27eLoWbsAvVJ",
        "outputId": "ab413eb0-d3fe-4571-d3ed-e18db294c4f9"
      },
      "outputs": [
        {
          "name": "stdout",
          "output_type": "stream",
          "text": [
            "None\n"
          ]
        }
      ],
      "source": [
        "print(model[0].weight.grad)"
      ]
    },
    {
      "cell_type": "code",
      "execution_count": null,
      "metadata": {
        "colab": {
          "background_save": true,
          "base_uri": "https://localhost:8080/"
        },
        "id": "pXvy2DvXAb7v",
        "outputId": "fff83aef-1317-45ec-f72e-a8c382548ed3"
      },
      "outputs": [
        {
          "name": "stdout",
          "output_type": "stream",
          "text": [
            "Before backward pass: \n",
            " None\n",
            "After backward pass: \n",
            " tensor([[0.0000, 0.0000, 0.0000,  ..., 0.0000, 0.0000, 0.0000],\n",
            "        [0.0053, 0.0053, 0.0053,  ..., 0.0053, 0.0053, 0.0053],\n",
            "        [0.0051, 0.0051, 0.0051,  ..., 0.0051, 0.0051, 0.0051],\n",
            "        ...,\n",
            "        [0.0000, 0.0000, 0.0000,  ..., 0.0000, 0.0000, 0.0000],\n",
            "        [0.0029, 0.0029, 0.0029,  ..., 0.0029, 0.0029, 0.0029],\n",
            "        [0.0000, 0.0000, 0.0000,  ..., 0.0000, 0.0000, 0.0000]])\n"
          ]
        }
      ],
      "source": [
        "print('Before backward pass: \\n', model[0].weight.grad)\n",
        "loss.backward()\n",
        "print('After backward pass: \\n', model[0].weight.grad)"
      ]
    },
    {
      "cell_type": "code",
      "execution_count": null,
      "metadata": {
        "colab": {
          "background_save": true
        },
        "id": "l354AJhYBag-"
      },
      "outputs": [],
      "source": [
        "optimizer = optim.SGD(model.parameters(), lr=0.003)"
      ]
    },
    {
      "cell_type": "code",
      "execution_count": null,
      "metadata": {
        "colab": {
          "background_save": true
        },
        "id": "T-o6-KeZBaJn"
      },
      "outputs": [],
      "source": [
        "optimizer.step()"
      ]
    },
    {
      "cell_type": "code",
      "execution_count": null,
      "metadata": {
        "colab": {
          "background_save": true,
          "base_uri": "https://localhost:8080/"
        },
        "id": "X_IA-5jaA5R8",
        "outputId": "3b0acc0f-ec00-4684-ef7c-7d8eac400482"
      },
      "outputs": [
        {
          "name": "stdout",
          "output_type": "stream",
          "text": [
            "Parameter containing:\n",
            "tensor([[ 0.0097,  0.0088, -0.0042,  ...,  0.0147,  0.0209, -0.0160],\n",
            "        [ 0.0341, -0.0113, -0.0042,  ..., -0.0098,  0.0270, -0.0116],\n",
            "        [ 0.0014,  0.0214, -0.0121,  ..., -0.0096,  0.0024, -0.0141],\n",
            "        ...,\n",
            "        [ 0.0042,  0.0016,  0.0133,  ...,  0.0141,  0.0078,  0.0252],\n",
            "        [-0.0347, -0.0020, -0.0216,  ...,  0.0214,  0.0041, -0.0230],\n",
            "        [-0.0071,  0.0018, -0.0021,  ..., -0.0130, -0.0180,  0.0319]],\n",
            "       requires_grad=True)\n"
          ]
        }
      ],
      "source": [
        "print(model[0].weight)"
      ]
    },
    {
      "cell_type": "markdown",
      "metadata": {
        "id": "awj6EWdjBFt_"
      },
      "source": [
        "#### Training Loop"
      ]
    },
    {
      "cell_type": "code",
      "execution_count": null,
      "metadata": {
        "colab": {
          "base_uri": "https://localhost:8080/"
        },
        "id": "YrwjOylnA-Gk",
        "outputId": "4656b015-f895-4228-b906-e3af81f459dc"
      },
      "outputs": [
        {
          "name": "stdout",
          "output_type": "stream",
          "text": [
            "Epoch 1 - Training loss: 1.8438320617431772\n",
            "Epoch 2 - Training loss: 0.8105649506168833\n",
            "Epoch 3 - Training loss: 0.5177183947933\n",
            "Epoch 4 - Training loss: 0.4255062627957574\n",
            "Epoch 5 - Training loss: 0.3815729491460298\n",
            "Epoch 6 - Training loss: 0.356518667834654\n",
            "Epoch 7 - Training loss: 0.33834697035298167\n",
            "Epoch 8 - Training loss: 0.3244771998701319\n",
            "Epoch 9 - Training loss: 0.3130381966530006\n",
            "Epoch 10 - Training loss: 0.3031608865284589\n",
            "Epoch 11 - Training loss: 0.29477999961452445\n",
            "Epoch 12 - Training loss: 0.2863902300913959\n",
            "Epoch 13 - Training loss: 0.2792262828219801\n",
            "Epoch 14 - Training loss: 0.27201427041944154\n",
            "Epoch 15 - Training loss: 0.2655079166120939\n",
            "Epoch 17 - Training loss: 0.2526409598722704\n",
            "Epoch 18 - Training loss: 0.24672976202929198\n",
            "Epoch 19 - Training loss: 0.24091324861894156\n",
            "Epoch 20 - Training loss: 0.23498467459226213\n",
            "Epoch 21 - Training loss: 0.22928285068556317\n",
            "Epoch 22 - Training loss: 0.22346471296126907\n",
            "Epoch 23 - Training loss: 0.2184241048451553\n",
            "Epoch 24 - Training loss: 0.21290079974480022\n",
            "Epoch 25 - Training loss: 0.20787584761391953\n",
            "Epoch 26 - Training loss: 0.2027997595073381\n",
            "Epoch 27 - Training loss: 0.1979720141412988\n",
            "Epoch 28 - Training loss: 0.19349096101452548\n",
            "Epoch 29 - Training loss: 0.18882747183142823\n",
            "Epoch 30 - Training loss: 0.18435856303982517\n",
            "Epoch 31 - Training loss: 0.1803655016110904\n",
            "Epoch 32 - Training loss: 0.1759118830034537\n",
            "Epoch 33 - Training loss: 0.1719705587340348\n",
            "Epoch 34 - Training loss: 0.16824273721003202\n",
            "Epoch 35 - Training loss: 0.1647876322801624\n",
            "Epoch 36 - Training loss: 0.16123522771224538\n",
            "Epoch 37 - Training loss: 0.1576833750135196\n",
            "Epoch 38 - Training loss: 0.15436838217167012\n",
            "Epoch 39 - Training loss: 0.15104926768531488\n",
            "Epoch 40 - Training loss: 0.14818176709171108\n",
            "Epoch 41 - Training loss: 0.14521040483467232\n",
            "Epoch 42 - Training loss: 0.14229780510028225\n",
            "Epoch 43 - Training loss: 0.13954893712883693\n",
            "Epoch 44 - Training loss: 0.13692856115152016\n",
            "Epoch 45 - Training loss: 0.1344679619358388\n",
            "Epoch 46 - Training loss: 0.13201605981346895\n",
            "Epoch 47 - Training loss: 0.12946634044819105\n",
            "Epoch 48 - Training loss: 0.1271344108650012\n",
            "Epoch 49 - Training loss: 0.12489936234695571\n",
            "Epoch 50 - Training loss: 0.12262502445309147\n",
            "\n",
            "Training Time (in minutes) = 14.263196583588918\n"
          ]
        }
      ],
      "source": [
        "time0 = time()\n",
        "for e in range(epochs):\n",
        "    running_loss = 0\n",
        "    #batch = 0\n",
        "    for images, labels in trainloader:\n",
        "\n",
        "        # Flatten MNIST images into a 784 long vector\n",
        "        images = images.view(images.shape[0], -1)\n",
        "\n",
        "        # Training pass\n",
        "        optimizer.zero_grad()\n",
        "\n",
        "        output = model(images)\n",
        "        loss = criterion(output, labels)\n",
        "        #print(\"batch no.: \", batch+1, \" loss for this batch: \", loss)\n",
        "        #batch+=1\n",
        "        running_loss += loss.item()\n",
        "\n",
        "        #This is where the model learns by backpropagating\n",
        "        loss.backward()\n",
        "\n",
        "        #And optimizes its weights here\n",
        "        optimizer.step()\n",
        "    print(\"Epoch {} - Training loss: {}\".format(e+1, running_loss/len(trainloader)))\n",
        "print(\"\\nTraining Time (in minutes) =\",(time()-time0)/60)"
      ]
    },
    {
      "cell_type": "markdown",
      "metadata": {
        "id": "KHe_rUbMBmdl"
      },
      "source": [
        "# Testing"
      ]
    },
    {
      "cell_type": "code",
      "execution_count": null,
      "metadata": {
        "colab": {
          "base_uri": "https://localhost:8080/"
        },
        "id": "sebNrhbrBn4I",
        "outputId": "d38d7adc-5b2f-44ea-b614-dd6121474c41"
      },
      "outputs": [
        {
          "name": "stdout",
          "output_type": "stream",
          "text": [
            "Number Of Images Tested = 10000\n",
            "\n",
            "Model Accuracy = 0.9623\n"
          ]
        }
      ],
      "source": [
        "correct_count, all_count = 0, 0\n",
        "for images,labels in valloader:\n",
        "  for i in range(len(labels)):\n",
        "    img = images[i].view(1, 784)\n",
        "    with torch.no_grad():\n",
        "        logps = model(img)\n",
        "\n",
        "\n",
        "    ps = torch.exp(logps)\n",
        "    probab = list(ps.numpy()[0])\n",
        "    pred_label = probab.index(max(probab))\n",
        "    true_label = labels.numpy()[i]\n",
        "    if(true_label == pred_label):\n",
        "      correct_count += 1\n",
        "    all_count += 1\n",
        "\n",
        "print(\"Number Of Images Tested =\", all_count)\n",
        "print(\"\\nModel Accuracy =\", (correct_count/all_count))"
      ]
    },
    {
      "cell_type": "markdown",
      "metadata": {
        "id": "a58b7xxIB9Pe"
      },
      "source": [
        "save model"
      ]
    },
    {
      "cell_type": "code",
      "execution_count": null,
      "metadata": {
        "id": "Oh7kdd_mB-gp"
      },
      "outputs": [],
      "source": [
        "torch.save(model, './my_mnist_model.pt')"
      ]
    },
    {
      "cell_type": "markdown",
      "metadata": {
        "id": "WQ44EslmK-af"
      },
      "source": [
        "# Sample test"
      ]
    },
    {
      "cell_type": "code",
      "execution_count": null,
      "metadata": {
        "colab": {
          "base_uri": "https://localhost:8080/"
        },
        "id": "aKKghX_1CHUJ",
        "outputId": "98720c61-9c5e-49a6-edd0-f8852cfd9b35"
      },
      "outputs": [
        {
          "name": "stdout",
          "output_type": "stream",
          "text": [
            "Transformed Image Shape: torch.Size([1, 28, 28])\n"
          ]
        }
      ],
      "source": [
        "from PIL import Image\n",
        "\n",
        "\n",
        "# Load the PNG image as a grayscale image\n",
        "image_path = '/content/6.png'\n",
        "original_image = Image.open(image_path).convert('L')  # 'L' mode is for grayscale\n",
        "\n",
        "# Define the transformation\n",
        "transform = transforms.Compose([transforms.ToTensor(),\n",
        "                                transforms.Resize((28, 28)),\n",
        "                              transforms.Normalize((0.5,), (0.5,)),\n",
        "                              ])\n",
        "\n",
        "# Apply the transformation\n",
        "transformed_image = transform(original_image)\n",
        "transformed_image = 1.0 - transformed_image\n",
        "# Print the shape of the resulting tensor\n",
        "print(\"Transformed Image Shape:\", transformed_image.shape)\n",
        "\n",
        "# You can now use transformed_image in your PyTorch model or further processing\n"
      ]
    },
    {
      "cell_type": "code",
      "execution_count": null,
      "metadata": {
        "colab": {
          "base_uri": "https://localhost:8080/",
          "height": 430
        },
        "id": "k-5fAOqmNw4Z",
        "outputId": "9d3c7452-b467-462d-c601-fc5bb0940eff"
      },
      "outputs": [
        {
          "data": {
            "image/png": "[encoded data removed]",
            "text/plain": [
              "<Figure size 640x480 with 1 Axes>"
            ]
          },
          "metadata": {},
          "output_type": "display_data"
        }
      ],
      "source": [
        "image = transformed_image.permute(1, 2, 0)  # Adjust dimensions for Matplotlib\n",
        "\n",
        "# Display the image\n",
        "plt.imshow(image, cmap='gray_r')\n",
        "plt.show()"
      ]
    },
    {
      "cell_type": "code",
      "execution_count": null,
      "metadata": {
        "id": "M5L34RFXLc9c"
      },
      "outputs": [],
      "source": [
        "img = transformed_image.view(1, 784)"
      ]
    },
    {
      "cell_type": "code",
      "execution_count": null,
      "metadata": {
        "colab": {
          "base_uri": "https://localhost:8080/"
        },
        "id": "z0CfAMAYLn0w",
        "outputId": "e5ebf1a1-305c-4ace-eb51-380e2cb817fb"
      },
      "outputs": [
        {
          "name": "stdout",
          "output_type": "stream",
          "text": [
            "The predicted output is:  8\n"
          ]
        }
      ],
      "source": [
        "with torch.no_grad():\n",
        "    logps = model(img)\n",
        "    ps = torch.exp(logps)\n",
        "    probab = list(ps.numpy()[0])\n",
        "    pred_label = probab.index(max(probab))\n",
        "    print(\"The predicted output is: \", pred_label)"
      ]
    },
    {
      "cell_type": "code",
      "execution_count": null,
      "metadata": {
        "id": "oVuao7GBSaHa"
      },
      "outputs": [],
      "source": []
    }
  ],
  "metadata": {
    "colab": {
      "provenance": [],
      "authorship_tag": "ABX9TyPZ6b7rJtj9WVNGhSEgOm29",
      "include_colab_link": true
    },
    "kernelspec": {
      "display_name": "Python 3",
      "name": "python3"
    },
    "language_info": {
      "name": "python"
    }
  },
  "nbformat": 4,
  "nbformat_minor": 0
}